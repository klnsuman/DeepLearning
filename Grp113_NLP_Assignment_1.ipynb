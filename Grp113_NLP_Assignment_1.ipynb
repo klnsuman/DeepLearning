{
 "cells": [
  {
   "cell_type": "markdown",
   "metadata": {},
   "source": [
    "# NLP Assignment I\n",
    "### Team Group 113\n",
    "### KANDERAO LAXMI NARASIMHA RAO\t2018ah04599\n",
    "### M NAVEEN KUMAR\t                                  2018ah04543\n",
    "### 1. Import Required Libraries"
   ]
  },
  {
   "cell_type": "code",
   "execution_count": 30,
   "metadata": {},
   "outputs": [
    {
     "name": "stderr",
     "output_type": "stream",
     "text": [
      "[nltk_data] Downloading package stopwords to /Users/klrao/nltk_data...\n",
      "[nltk_data]   Package stopwords is already up-to-date!\n"
     ]
    }
   ],
   "source": [
    "# Libraries For Basic Processing\n",
    "import matplotlib.pyplot as plt\n",
    "import pandas as pd\n",
    "import numpy as np\n",
    "from sklearn.model_selection import train_test_split\n",
    "\n",
    "\n",
    "# Libraries For NLTK Libraries\n",
    "import nltk\n",
    "import string\n",
    "import re\n",
    "\n",
    "from nltk.tokenize import word_tokenize\n",
    "from string import punctuation \n",
    "from nltk.corpus import stopwords \n",
    "\n",
    "# Libraries For Sentence Tokenization  - Tokenizes sentences from text\n",
    "from nltk.tokenize import sent_tokenize\n",
    "# Libraries For Sentence Word Tokenization  - Tokenizes words in sentences\n",
    "from nltk.tokenize import word_tokenize\n",
    "\n",
    "# Libraries For Removal of stop words from the text\n",
    "from nltk.corpus import stopwords\n",
    "from nltk.stem import SnowballStemmer\n",
    "# Libraries For Lemmatization\n",
    "from nltk.stem import WordNetLemmatizer\n",
    "# Stemming\n",
    "from nltk.stem import PorterStemmer\n",
    "\n",
    "from nltk.tokenize import word_tokenize\n",
    "nltk.download('stopwords')\n",
    "from nltk.corpus import stopwords\n",
    "\n",
    "from sklearn.model_selection import train_test_split\n",
    "from sklearn.preprocessing import LabelEncoder\n",
    "\n",
    "# import pipeline, CountVectorizer, TfidfTransformer, GridSearchCV\n",
    "from sklearn.pipeline import Pipeline\n",
    "from sklearn.feature_extraction.text import CountVectorizer\n",
    "from sklearn.feature_extraction.text import TfidfTransformer\n",
    "from sklearn.model_selection import GridSearchCV\n",
    "from sklearn.naive_bayes import MultinomialNB\n",
    "from sklearn.naive_bayes import GaussianNB\n",
    "\n",
    "import itertools\n",
    "from sklearn.metrics import confusion_matrix, classification_report, accuracy_score\n",
    "\n"
   ]
  },
  {
   "cell_type": "markdown",
   "metadata": {},
   "source": [
    "### 1.  Read Csv file"
   ]
  },
  {
   "cell_type": "code",
   "execution_count": 31,
   "metadata": {},
   "outputs": [],
   "source": [
    "df = pd.read_csv(\"kindle_reviews.csv\")"
   ]
  },
  {
   "cell_type": "code",
   "execution_count": 32,
   "metadata": {},
   "outputs": [
    {
     "data": {
      "text/html": [
       "<div>\n",
       "<style scoped>\n",
       "    .dataframe tbody tr th:only-of-type {\n",
       "        vertical-align: middle;\n",
       "    }\n",
       "\n",
       "    .dataframe tbody tr th {\n",
       "        vertical-align: top;\n",
       "    }\n",
       "\n",
       "    .dataframe thead th {\n",
       "        text-align: right;\n",
       "    }\n",
       "</style>\n",
       "<table border=\"1\" class=\"dataframe\">\n",
       "  <thead>\n",
       "    <tr style=\"text-align: right;\">\n",
       "      <th></th>\n",
       "      <th>Unnamed: 0</th>\n",
       "      <th>asin</th>\n",
       "      <th>helpful</th>\n",
       "      <th>overall</th>\n",
       "      <th>reviewText</th>\n",
       "      <th>reviewTime</th>\n",
       "      <th>reviewerID</th>\n",
       "      <th>reviewerName</th>\n",
       "      <th>summary</th>\n",
       "      <th>unixReviewTime</th>\n",
       "    </tr>\n",
       "  </thead>\n",
       "  <tbody>\n",
       "    <tr>\n",
       "      <th>0</th>\n",
       "      <td>0</td>\n",
       "      <td>B000F83SZQ</td>\n",
       "      <td>[0, 0]</td>\n",
       "      <td>5</td>\n",
       "      <td>I enjoy vintage books and movies so I enjoyed ...</td>\n",
       "      <td>05 5, 2014</td>\n",
       "      <td>A1F6404F1VG29J</td>\n",
       "      <td>Avidreader</td>\n",
       "      <td>Nice vintage story</td>\n",
       "      <td>1399248000</td>\n",
       "    </tr>\n",
       "    <tr>\n",
       "      <th>1</th>\n",
       "      <td>1</td>\n",
       "      <td>B000F83SZQ</td>\n",
       "      <td>[2, 2]</td>\n",
       "      <td>4</td>\n",
       "      <td>This book is a reissue of an old one; the auth...</td>\n",
       "      <td>01 6, 2014</td>\n",
       "      <td>AN0N05A9LIJEQ</td>\n",
       "      <td>critters</td>\n",
       "      <td>Different...</td>\n",
       "      <td>1388966400</td>\n",
       "    </tr>\n",
       "    <tr>\n",
       "      <th>2</th>\n",
       "      <td>2</td>\n",
       "      <td>B000F83SZQ</td>\n",
       "      <td>[2, 2]</td>\n",
       "      <td>4</td>\n",
       "      <td>This was a fairly interesting read.  It had ol...</td>\n",
       "      <td>04 4, 2014</td>\n",
       "      <td>A795DMNCJILA6</td>\n",
       "      <td>dot</td>\n",
       "      <td>Oldie</td>\n",
       "      <td>1396569600</td>\n",
       "    </tr>\n",
       "    <tr>\n",
       "      <th>3</th>\n",
       "      <td>3</td>\n",
       "      <td>B000F83SZQ</td>\n",
       "      <td>[1, 1]</td>\n",
       "      <td>5</td>\n",
       "      <td>I'd never read any of the Amy Brewster mysteri...</td>\n",
       "      <td>02 19, 2014</td>\n",
       "      <td>A1FV0SX13TWVXQ</td>\n",
       "      <td>Elaine H. Turley \"Montana Songbird\"</td>\n",
       "      <td>I really liked it.</td>\n",
       "      <td>1392768000</td>\n",
       "    </tr>\n",
       "    <tr>\n",
       "      <th>4</th>\n",
       "      <td>4</td>\n",
       "      <td>B000F83SZQ</td>\n",
       "      <td>[0, 1]</td>\n",
       "      <td>4</td>\n",
       "      <td>If you like period pieces - clothing, lingo, y...</td>\n",
       "      <td>03 19, 2014</td>\n",
       "      <td>A3SPTOKDG7WBLN</td>\n",
       "      <td>Father Dowling Fan</td>\n",
       "      <td>Period Mystery</td>\n",
       "      <td>1395187200</td>\n",
       "    </tr>\n",
       "  </tbody>\n",
       "</table>\n",
       "</div>"
      ],
      "text/plain": [
       "   Unnamed: 0        asin helpful  overall  \\\n",
       "0           0  B000F83SZQ  [0, 0]        5   \n",
       "1           1  B000F83SZQ  [2, 2]        4   \n",
       "2           2  B000F83SZQ  [2, 2]        4   \n",
       "3           3  B000F83SZQ  [1, 1]        5   \n",
       "4           4  B000F83SZQ  [0, 1]        4   \n",
       "\n",
       "                                          reviewText   reviewTime  \\\n",
       "0  I enjoy vintage books and movies so I enjoyed ...   05 5, 2014   \n",
       "1  This book is a reissue of an old one; the auth...   01 6, 2014   \n",
       "2  This was a fairly interesting read.  It had ol...   04 4, 2014   \n",
       "3  I'd never read any of the Amy Brewster mysteri...  02 19, 2014   \n",
       "4  If you like period pieces - clothing, lingo, y...  03 19, 2014   \n",
       "\n",
       "       reviewerID                         reviewerName             summary  \\\n",
       "0  A1F6404F1VG29J                           Avidreader  Nice vintage story   \n",
       "1   AN0N05A9LIJEQ                             critters        Different...   \n",
       "2   A795DMNCJILA6                                  dot               Oldie   \n",
       "3  A1FV0SX13TWVXQ  Elaine H. Turley \"Montana Songbird\"  I really liked it.   \n",
       "4  A3SPTOKDG7WBLN                   Father Dowling Fan      Period Mystery   \n",
       "\n",
       "   unixReviewTime  \n",
       "0      1399248000  \n",
       "1      1388966400  \n",
       "2      1396569600  \n",
       "3      1392768000  \n",
       "4      1395187200  "
      ]
     },
     "execution_count": 32,
     "metadata": {},
     "output_type": "execute_result"
    }
   ],
   "source": [
    "df.head()"
   ]
  },
  {
   "cell_type": "code",
   "execution_count": 33,
   "metadata": {},
   "outputs": [
    {
     "data": {
      "text/plain": [
       "5    575264\n",
       "4    254013\n",
       "3     96194\n",
       "2     34130\n",
       "1     23018\n",
       "Name: overall, dtype: int64"
      ]
     },
     "execution_count": 33,
     "metadata": {},
     "output_type": "execute_result"
    }
   ],
   "source": [
    "df['overall'].value_counts()"
   ]
  },
  {
   "cell_type": "code",
   "execution_count": 34,
   "metadata": {},
   "outputs": [
    {
     "data": {
      "text/plain": [
       "Text(0.5, 1.0, 'Sentiment Data Distribution')"
      ]
     },
     "execution_count": 34,
     "metadata": {},
     "output_type": "execute_result"
    },
    {
     "data": {
      "image/png": "[encoded data removed]",
      "text/plain": [
       "<Figure size 576x288 with 1 Axes>"
      ]
     },
     "metadata": {
      "needs_background": "light"
     },
     "output_type": "display_data"
    }
   ],
   "source": [
    "val_counts = df['overall'].value_counts()\n",
    "\n",
    "plt.figure(figsize=(8,4))\n",
    "plt.bar(val_counts.index,val_counts.values)\n",
    "plt.xlabel(\"Class Label\")\n",
    "plt.ylabel(\"Value Counts\")\n",
    "plt.title(\"Sentiment Data Distribution\")"
   ]
  },
  {
   "cell_type": "markdown",
   "metadata": {},
   "source": [
    "### 2. Text Processing - Remove Below kind of words from text column\n",
    "2.1 Remove Punctuations \n",
    "2.2 Remove Special Characters\n",
    "2.3 Remove Stop Words "
   ]
  },
  {
   "cell_type": "code",
   "execution_count": 35,
   "metadata": {},
   "outputs": [
    {
     "data": {
      "text/html": [
       "<div>\n",
       "<style scoped>\n",
       "    .dataframe tbody tr th:only-of-type {\n",
       "        vertical-align: middle;\n",
       "    }\n",
       "\n",
       "    .dataframe tbody tr th {\n",
       "        vertical-align: top;\n",
       "    }\n",
       "\n",
       "    .dataframe thead th {\n",
       "        text-align: right;\n",
       "    }\n",
       "</style>\n",
       "<table border=\"1\" class=\"dataframe\">\n",
       "  <thead>\n",
       "    <tr style=\"text-align: right;\">\n",
       "      <th></th>\n",
       "      <th>overall</th>\n",
       "      <th>reviewText</th>\n",
       "    </tr>\n",
       "  </thead>\n",
       "  <tbody>\n",
       "    <tr>\n",
       "      <th>0</th>\n",
       "      <td>5</td>\n",
       "      <td>I enjoy vintage books and movies so I enjoyed ...</td>\n",
       "    </tr>\n",
       "    <tr>\n",
       "      <th>1</th>\n",
       "      <td>4</td>\n",
       "      <td>This book is a reissue of an old one; the auth...</td>\n",
       "    </tr>\n",
       "    <tr>\n",
       "      <th>2</th>\n",
       "      <td>4</td>\n",
       "      <td>This was a fairly interesting read.  It had ol...</td>\n",
       "    </tr>\n",
       "    <tr>\n",
       "      <th>3</th>\n",
       "      <td>5</td>\n",
       "      <td>I'd never read any of the Amy Brewster mysteri...</td>\n",
       "    </tr>\n",
       "    <tr>\n",
       "      <th>4</th>\n",
       "      <td>4</td>\n",
       "      <td>If you like period pieces - clothing, lingo, y...</td>\n",
       "    </tr>\n",
       "  </tbody>\n",
       "</table>\n",
       "</div>"
      ],
      "text/plain": [
       "   overall                                         reviewText\n",
       "0        5  I enjoy vintage books and movies so I enjoyed ...\n",
       "1        4  This book is a reissue of an old one; the auth...\n",
       "2        4  This was a fairly interesting read.  It had ol...\n",
       "3        5  I'd never read any of the Amy Brewster mysteri...\n",
       "4        4  If you like period pieces - clothing, lingo, y..."
      ]
     },
     "execution_count": 35,
     "metadata": {},
     "output_type": "execute_result"
    }
   ],
   "source": [
    "df[['overall','reviewText']].head()"
   ]
  },
  {
   "cell_type": "code",
   "execution_count": 36,
   "metadata": {},
   "outputs": [],
   "source": [
    "stop_words = stopwords.words('english')\n",
    "stemmer = SnowballStemmer('english')\n",
    "\n",
    "text_cleaning_re = \"@\\S+|https?:\\S+|http?:\\S|[^A-Za-z0-9]+\""
   ]
  },
  {
   "cell_type": "code",
   "execution_count": 37,
   "metadata": {},
   "outputs": [],
   "source": [
    "def preprocess(text,stem=False):\n",
    "    \n",
    "    #------------------------------\n",
    "    # Convert Text to Lower Case \n",
    "    # Remove Special Characters\n",
    "    #------------------------------\n",
    "    text = re.sub(text_cleaning_re,' ',str(text).lower()).strip()\n",
    "    \n",
    "    #------------------------------\n",
    "    # Remove Punctuation\n",
    "    #------------------------------\n",
    "    tokens = []\n",
    "    for char in text:\n",
    "        if char not in punctuation:\n",
    "            text = text + char  \n",
    "    #-----------------------        \n",
    "    # Remove Stop Words\n",
    "    #-----------------------\n",
    "    for token in text.split():\n",
    "        if token not in stop_words:\n",
    "            if stem:\n",
    "                tokens.append(stemmer.stem(token))\n",
    "            else:\n",
    "                tokens.append(token)\n",
    "            \n",
    "    return \" \".join(tokens)"
   ]
  },
  {
   "cell_type": "code",
   "execution_count": 38,
   "metadata": {},
   "outputs": [],
   "source": [
    "df.reviewText = df.reviewText.apply(lambda x:preprocess(x,False))"
   ]
  },
  {
   "cell_type": "code",
   "execution_count": 39,
   "metadata": {},
   "outputs": [
    {
     "data": {
      "text/html": [
       "<div>\n",
       "<style scoped>\n",
       "    .dataframe tbody tr th:only-of-type {\n",
       "        vertical-align: middle;\n",
       "    }\n",
       "\n",
       "    .dataframe tbody tr th {\n",
       "        vertical-align: top;\n",
       "    }\n",
       "\n",
       "    .dataframe thead th {\n",
       "        text-align: right;\n",
       "    }\n",
       "</style>\n",
       "<table border=\"1\" class=\"dataframe\">\n",
       "  <thead>\n",
       "    <tr style=\"text-align: right;\">\n",
       "      <th></th>\n",
       "      <th>overall</th>\n",
       "      <th>reviewText</th>\n",
       "    </tr>\n",
       "  </thead>\n",
       "  <tbody>\n",
       "    <tr>\n",
       "      <th>0</th>\n",
       "      <td>5</td>\n",
       "      <td>enjoy vintage books movies enjoyed reading boo...</td>\n",
       "    </tr>\n",
       "    <tr>\n",
       "      <th>1</th>\n",
       "      <td>4</td>\n",
       "      <td>book reissue old one author born 1910 era say ...</td>\n",
       "    </tr>\n",
       "    <tr>\n",
       "      <th>2</th>\n",
       "      <td>4</td>\n",
       "      <td>fairly interesting read old style terminology ...</td>\n",
       "    </tr>\n",
       "    <tr>\n",
       "      <th>3</th>\n",
       "      <td>5</td>\n",
       "      <td>never read amy brewster mysteries one really h...</td>\n",
       "    </tr>\n",
       "    <tr>\n",
       "      <th>4</th>\n",
       "      <td>4</td>\n",
       "      <td>like period pieces clothing lingo enjoy myster...</td>\n",
       "    </tr>\n",
       "  </tbody>\n",
       "</table>\n",
       "</div>"
      ],
      "text/plain": [
       "   overall                                         reviewText\n",
       "0        5  enjoy vintage books movies enjoyed reading boo...\n",
       "1        4  book reissue old one author born 1910 era say ...\n",
       "2        4  fairly interesting read old style terminology ...\n",
       "3        5  never read amy brewster mysteries one really h...\n",
       "4        4  like period pieces clothing lingo enjoy myster..."
      ]
     },
     "execution_count": 39,
     "metadata": {},
     "output_type": "execute_result"
    }
   ],
   "source": [
    "df[['overall','reviewText']].head()"
   ]
  },
  {
   "cell_type": "markdown",
   "metadata": {},
   "source": [
    "### 3.1 Create X,Y Objects \n",
    "### 3.2 Split the data into training and testing sets"
   ]
  },
  {
   "cell_type": "code",
   "execution_count": 40,
   "metadata": {},
   "outputs": [],
   "source": [
    "X,y = df['reviewText'],df['overall']\n",
    "X_train, X_test, y_train, y_test = train_test_split(X, y, test_size=0.2, random_state=42)"
   ]
  },
  {
   "cell_type": "markdown",
   "metadata": {},
   "source": [
    "### 3.2 Create CountVectorizer Object"
   ]
  },
  {
   "cell_type": "code",
   "execution_count": 41,
   "metadata": {},
   "outputs": [
    {
     "name": "stdout",
     "output_type": "stream",
     "text": [
      "(786095,)\n",
      "(196524,)\n",
      "(786095,)\n",
      "(196524,)\n"
     ]
    }
   ],
   "source": [
    "print(X_train.shape)\n",
    "print(X_test.shape)\n",
    "print(y_train.shape)\n",
    "print(y_test.shape)"
   ]
  },
  {
   "cell_type": "code",
   "execution_count": 42,
   "metadata": {},
   "outputs": [],
   "source": [
    "# 2. instantiate the vectorizer\n",
    "vect = CountVectorizer()"
   ]
  },
  {
   "cell_type": "code",
   "execution_count": 43,
   "metadata": {},
   "outputs": [],
   "source": [
    "# learn training data vocabulary, then use it to create a document-term matrix\n",
    "\n",
    "# 3. fit\n",
    "vect.fit(X_train)\n",
    "\n",
    "# 4. transform training data\n",
    "X_train_dtm = vect.transform(X_train)"
   ]
  },
  {
   "cell_type": "code",
   "execution_count": 44,
   "metadata": {},
   "outputs": [],
   "source": [
    "# equivalently: combine fit and transform into a single step\n",
    "# this is faster and what most people would do\n",
    "X_train_dtm = vect.fit_transform(X_train)"
   ]
  },
  {
   "cell_type": "code",
   "execution_count": 45,
   "metadata": {},
   "outputs": [
    {
     "data": {
      "text/plain": [
       "<786095x472541 sparse matrix of type '<class 'numpy.int64'>'\n",
       "\twith 36098301 stored elements in Compressed Sparse Row format>"
      ]
     },
     "execution_count": 45,
     "metadata": {},
     "output_type": "execute_result"
    }
   ],
   "source": [
    "# examine the document-term matrix\n",
    "X_train_dtm"
   ]
  },
  {
   "cell_type": "code",
   "execution_count": 46,
   "metadata": {},
   "outputs": [
    {
     "data": {
      "text/plain": [
       "<196524x472541 sparse matrix of type '<class 'numpy.int64'>'\n",
       "\twith 8952127 stored elements in Compressed Sparse Row format>"
      ]
     },
     "execution_count": 46,
     "metadata": {},
     "output_type": "execute_result"
    }
   ],
   "source": [
    "# 4. transform testing data (using fitted vocabulary) into a document-term matrix\n",
    "X_test_dtm = vect.transform(X_test)\n",
    "X_test_dtm\n",
    "\n",
    "# you can see that the number of columns, 7456, is the same as what we have learned above in X_train_dtm"
   ]
  },
  {
   "cell_type": "markdown",
   "metadata": {},
   "source": [
    "### 3.3 Train a MultinomialNB - Using GridSearchCV for classification"
   ]
  },
  {
   "cell_type": "code",
   "execution_count": 47,
   "metadata": {},
   "outputs": [],
   "source": [
    "# 1. import\n",
    "from sklearn.naive_bayes import MultinomialNB\n",
    "\n",
    "# 2. instantiate a Multinomial Naive Bayes model\n",
    "nb = MultinomialNB()"
   ]
  },
  {
   "cell_type": "code",
   "execution_count": 48,
   "metadata": {},
   "outputs": [
    {
     "name": "stdout",
     "output_type": "stream",
     "text": [
      "CPU times: user 760 ms, sys: 71.7 ms, total: 832 ms\n",
      "Wall time: 834 ms\n"
     ]
    },
    {
     "data": {
      "text/plain": [
       "MultinomialNB(alpha=1.0, class_prior=None, fit_prior=True)"
      ]
     },
     "execution_count": 48,
     "metadata": {},
     "output_type": "execute_result"
    }
   ],
   "source": [
    "# 3. train the model \n",
    "# using X_train_dtm (timing it with an IPython \"magic command\")\n",
    "\n",
    "%time nb.fit(X_train_dtm, y_train)"
   ]
  },
  {
   "cell_type": "code",
   "execution_count": 49,
   "metadata": {},
   "outputs": [],
   "source": [
    "# 4. make class predictions for X_test_dtm\n",
    "y_pred_class = nb.predict(X_test_dtm)"
   ]
  },
  {
   "cell_type": "code",
   "execution_count": 50,
   "metadata": {},
   "outputs": [
    {
     "data": {
      "text/plain": [
       "0.632859091001608"
      ]
     },
     "execution_count": 50,
     "metadata": {},
     "output_type": "execute_result"
    }
   ],
   "source": [
    "# calculate accuracy of class predictions\n",
    "from sklearn import metrics\n",
    "metrics.accuracy_score(y_test, y_pred_class)"
   ]
  },
  {
   "cell_type": "code",
   "execution_count": 51,
   "metadata": {},
   "outputs": [
    {
     "name": "stdout",
     "output_type": "stream",
     "text": [
      "5    115392\n",
      "4     50699\n",
      "3     19169\n",
      "2      6717\n",
      "1      4547\n",
      "Name: overall, dtype: int64\n",
      "Null accuracy: 5    0.587165\n",
      "Name: overall, dtype: float64\n",
      "5    459872\n",
      "4    203314\n",
      "3     77025\n",
      "2     27413\n",
      "1     18471\n",
      "Name: overall, dtype: int64\n"
     ]
    }
   ],
   "source": [
    "# examine class distribution\n",
    "print(y_test.value_counts())\n",
    "# there is a majority class of 0 here, hence the classes are skewed\n",
    "\n",
    "# calculate null accuracy (for multi-class classification problems)\n",
    "# .head(1) assesses the value 1208\n",
    "null_accuracy = y_test.value_counts().head(1) / len(y_test)\n",
    "print('Null accuracy:', null_accuracy)\n",
    "print(y_train.value_counts())"
   ]
  },
  {
   "cell_type": "code",
   "execution_count": 52,
   "metadata": {},
   "outputs": [
    {
     "data": {
      "text/plain": [
       "array([[ 1389,  1249,  1172,   204,   533],\n",
       "       [  484,  1529,  3340,   608,   756],\n",
       "       [  320,  1070,  9853,  4770,  3156],\n",
       "       [  179,   349,  8920, 20364, 20887],\n",
       "       [  269,   289,  4272, 19325, 91237]])"
      ]
     },
     "execution_count": 52,
     "metadata": {},
     "output_type": "execute_result"
    }
   ],
   "source": [
    "# print the confusion matrix\n",
    "metrics.confusion_matrix(y_test, y_pred_class)"
   ]
  },
  {
   "cell_type": "code",
   "execution_count": 53,
   "metadata": {},
   "outputs": [
    {
     "data": {
      "text/plain": [
       "256249    john summit digs deep lives minds convicted ch...\n",
       "344759    lots good insight really practical information...\n",
       "853169    begin really liked book started think readers ...\n",
       "848242    happy result happy ending awhile thought might...\n",
       "188350    enjoyed reading book never knew one minute nex...\n",
       "                                ...                        \n",
       "391903    surprised trouble book read writer might want ...\n",
       "389887    short story book would say rough draft story b...\n",
       "124850    helpful gives great advice writing got better ...\n",
       "626422    story elements appeal young lovers daphne hank...\n",
       "245364    corina delivers great source healthy snacks he...\n",
       "Name: reviewText, Length: 36675, dtype: object"
      ]
     },
     "execution_count": 53,
     "metadata": {},
     "output_type": "execute_result"
    }
   ],
   "source": [
    "# print message text for the false positives (ham incorrectly classified as spam)\n",
    "\n",
    "X_test[y_pred_class > y_test]"
   ]
  },
  {
   "cell_type": "code",
   "execution_count": 54,
   "metadata": {},
   "outputs": [],
   "source": [
    "#Defining function for confusion matrix plot\n",
    "def plot_confusion_matrix(y_true, y_pred, classes,\n",
    "                          normalize=False,\n",
    "                          title=None,\n",
    "                          cmap=plt.cm.Blues):\n",
    "\n",
    "    if not title:\n",
    "        if normalize:\n",
    "            title = 'Normalized confusion matrix'\n",
    "        else:\n",
    "            title = 'Confusion matrix, without normalization'\n",
    "\n",
    "    #Compute confusion matrix\n",
    "    cm = confusion_matrix(y_true, y_pred)\n",
    "    if normalize:\n",
    "        cm = cm.astype('float') / cm.sum(axis=1)[:, np.newaxis]\n",
    "        print(\"Normalized confusion matrix\")\n",
    "    else:\n",
    "        print('Confusion matrix, without normalization')\n",
    "\n",
    "#print(cm)\n",
    "\n",
    "    fig, ax = plt.subplots(figsize=(7,7))\n",
    "    im = ax.imshow(cm, interpolation='nearest', cmap=cmap)\n",
    "    ax.figure.colorbar(im, ax=ax)\n",
    "    # We want to show all ticks...\n",
    "    ax.set(xticks=np.arange(cm.shape[1]),\n",
    "           yticks=np.arange(cm.shape[0]),\n",
    "           # ... and label them with the respective list entries\n",
    "           xticklabels=classes, yticklabels=classes,\n",
    "           title=title,\n",
    "           ylabel='True label',\n",
    "           xlabel='Predicted label')\n",
    "\n",
    "\n",
    "    #Rotate the tick labels and set their alignment.\n",
    "    plt.setp(ax.get_xticklabels(), rotation=45, ha=\"right\",\n",
    "             rotation_mode=\"anchor\")\n",
    "    # Loop over data dimensions and create text annotations.\n",
    "    fmt = '.2f' if normalize else 'd'\n",
    "    thresh = cm.max() / 2.\n",
    "    for i in range(cm.shape[0]):\n",
    "        for j in range(cm.shape[1]):\n",
    "            ax.text(j, i, format(cm[i, j], fmt),\n",
    "                    ha=\"center\", va=\"center\",\n",
    "                    color=\"white\" if cm[i, j] > thresh else \"black\")\n",
    "    fig.tight_layout()\n",
    "    return ax\n",
    "\n",
    "np.set_printoptions(precision=2)"
   ]
  },
  {
   "cell_type": "code",
   "execution_count": 55,
   "metadata": {},
   "outputs": [
    {
     "name": "stdout",
     "output_type": "stream",
     "text": [
      "Confusion matrix, without normalization\n"
     ]
    },
    {
     "data": {
      "text/plain": [
       "<matplotlib.axes._subplots.AxesSubplot at 0x1a4ade8b90>"
      ]
     },
     "execution_count": 55,
     "metadata": {},
     "output_type": "execute_result"
    },
    {
     "data": {
      "image/png": "[encoded data removed]",
      "text/plain": [
       "<Figure size 504x504 with 2 Axes>"
      ]
     },
     "metadata": {
      "needs_background": "light"
     },
     "output_type": "display_data"
    }
   ],
   "source": [
    "import seaborn as sns\n",
    "from sklearn.metrics import confusion_matrix\n",
    "# Predict the values from the validation dataset\n",
    "\n",
    "#y_pred=model.predict_classes(test_sentences)\n",
    "#y_true=np.argmax(test_sentiments)\n",
    "\n",
    "# compute the confusion matrix\n",
    "#confusion_mtx = confusion_matrix(y_true,y_pred) \n",
    "class_names=['1','2','3','4','5']\n",
    " \n",
    "plot_confusion_matrix(y_test, y_pred_class, classes = class_names, title='Confusion matrix')\n",
    "\n"
   ]
  },
  {
   "cell_type": "markdown",
   "metadata": {},
   "source": [
    "### 5. Display POS Tagging for 4 Rows of Review Text"
   ]
  },
  {
   "cell_type": "code",
   "execution_count": 56,
   "metadata": {},
   "outputs": [
    {
     "name": "stderr",
     "output_type": "stream",
     "text": [
      "[nltk_data] Downloading package brown to /Users/klrao/nltk_data...\n",
      "[nltk_data]   Package brown is already up-to-date!\n"
     ]
    },
    {
     "data": {
      "text/plain": [
       "True"
      ]
     },
     "execution_count": 56,
     "metadata": {},
     "output_type": "execute_result"
    }
   ],
   "source": [
    "nltk.download('brown')"
   ]
  },
  {
   "cell_type": "code",
   "execution_count": 57,
   "metadata": {},
   "outputs": [
    {
     "data": {
      "text/plain": [
       "[[('The', 'AT'), ('Fulton', 'NP-TL'), ('County', 'NN-TL'), ('Grand', 'JJ-TL'), ('Jury', 'NN-TL'), ('said', 'VBD'), ('Friday', 'NR'), ('an', 'AT'), ('investigation', 'NN'), ('of', 'IN'), (\"Atlanta's\", 'NP$'), ('recent', 'JJ'), ('primary', 'NN'), ('election', 'NN'), ('produced', 'VBD'), ('``', '``'), ('no', 'AT'), ('evidence', 'NN'), (\"''\", \"''\"), ('that', 'CS'), ('any', 'DTI'), ('irregularities', 'NNS'), ('took', 'VBD'), ('place', 'NN'), ('.', '.')], [('The', 'AT'), ('jury', 'NN'), ('further', 'RBR'), ('said', 'VBD'), ('in', 'IN'), ('term-end', 'NN'), ('presentments', 'NNS'), ('that', 'CS'), ('the', 'AT'), ('City', 'NN-TL'), ('Executive', 'JJ-TL'), ('Committee', 'NN-TL'), (',', ','), ('which', 'WDT'), ('had', 'HVD'), ('over-all', 'JJ'), ('charge', 'NN'), ('of', 'IN'), ('the', 'AT'), ('election', 'NN'), (',', ','), ('``', '``'), ('deserves', 'VBZ'), ('the', 'AT'), ('praise', 'NN'), ('and', 'CC'), ('thanks', 'NNS'), ('of', 'IN'), ('the', 'AT'), ('City', 'NN-TL'), ('of', 'IN-TL'), ('Atlanta', 'NP-TL'), (\"''\", \"''\"), ('for', 'IN'), ('the', 'AT'), ('manner', 'NN'), ('in', 'IN'), ('which', 'WDT'), ('the', 'AT'), ('election', 'NN'), ('was', 'BEDZ'), ('conducted', 'VBN'), ('.', '.')], ...]"
      ]
     },
     "execution_count": 57,
     "metadata": {},
     "output_type": "execute_result"
    }
   ],
   "source": [
    "from nltk import UnigramTagger\n",
    "from nltk.corpus import brown\n",
    "tagged_sentences = brown.tagged_sents(categories='news')\n",
    "tagged_sentences"
   ]
  },
  {
   "cell_type": "code",
   "execution_count": 58,
   "metadata": {},
   "outputs": [],
   "source": [
    "df_tag=df['reviewText'][0:4].head().copy()"
   ]
  },
  {
   "cell_type": "code",
   "execution_count": 59,
   "metadata": {},
   "outputs": [
    {
     "data": {
      "text/plain": [
       "0    enjoy vintage books movies enjoyed reading boo...\n",
       "1    book reissue old one author born 1910 era say ...\n",
       "2    fairly interesting read old style terminology ...\n",
       "3    never read amy brewster mysteries one really h...\n",
       "Name: reviewText, dtype: object"
      ]
     },
     "execution_count": 59,
     "metadata": {},
     "output_type": "execute_result"
    }
   ],
   "source": [
    "df_tag"
   ]
  },
  {
   "cell_type": "code",
   "execution_count": 60,
   "metadata": {},
   "outputs": [
    {
     "name": "stderr",
     "output_type": "stream",
     "text": [
      "[nltk_data] Downloading package punkt to /Users/klrao/nltk_data...\n",
      "[nltk_data]   Package punkt is already up-to-date!\n",
      "[nltk_data] Downloading package averaged_perceptron_tagger to\n",
      "[nltk_data]     /Users/klrao/nltk_data...\n",
      "[nltk_data]   Package averaged_perceptron_tagger is already up-to-\n",
      "[nltk_data]       date!\n"
     ]
    },
    {
     "data": {
      "text/plain": [
       "True"
      ]
     },
     "execution_count": 60,
     "metadata": {},
     "output_type": "execute_result"
    }
   ],
   "source": [
    "import nltk \n",
    "from nltk.corpus import stopwords \n",
    "from nltk.tokenize import word_tokenize, sent_tokenize \n",
    "stop_words = set(stopwords.words('english')) \n",
    "\n",
    "nltk.download('punkt')\n",
    "nltk.download('averaged_perceptron_tagger')"
   ]
  },
  {
   "cell_type": "code",
   "execution_count": 61,
   "metadata": {},
   "outputs": [],
   "source": [
    "def posTag(statement):\n",
    "\n",
    "    # sent_tokenize is one of instances of  \n",
    "    # PunktSentenceTokenizer from the nltk.tokenize.punkt module \n",
    "    \n",
    "    tokenized = sent_tokenize(statement) \n",
    "    tokens = []\n",
    "    for i in tokenized: \n",
    "        # Word tokenizers is used to find the words  \n",
    "        # and punctuation in a string \n",
    "        wordsList = nltk.word_tokenize(i) \n",
    "  \n",
    "        # removing stop words from wordList \n",
    "        wordsList = [w for w in wordsList if not w in stop_words]  \n",
    "  \n",
    "        #  Using a Tagger. Which is part-of-speech  \n",
    "        # tagger or POS-tagger.  \n",
    "        tagged = nltk.pos_tag(wordsList) \n",
    "        #tokens.append(tagged)\n",
    "        print(tagged) \n",
    "    return tagged"
   ]
  },
  {
   "cell_type": "code",
   "execution_count": 62,
   "metadata": {},
   "outputs": [
    {
     "name": "stdout",
     "output_type": "stream",
     "text": [
      "[('enjoy', 'NN'), ('vintage', 'NN'), ('books', 'NNS'), ('movies', 'NNS'), ('enjoyed', 'VBD'), ('reading', 'VBG'), ('book', 'NN'), ('plot', 'NN'), ('unusual', 'JJ'), ('think', 'NN'), ('killing', 'VBG'), ('someone', 'NN'), ('self', 'NN'), ('defense', 'NN'), ('leaving', 'VBG'), ('scene', 'NN'), ('body', 'NN'), ('without', 'IN'), ('notifying', 'VBG'), ('police', 'NN'), ('hitting', 'VBG'), ('someone', 'NN'), ('jaw', 'NN'), ('knock', 'NN'), ('would', 'MD'), ('wash', 'VB'), ('today', 'NN'), ('still', 'RB'), ('good', 'JJ'), ('read', 'NN'), ('mei', 'NN'), ('enjoy', 'VBP'), ('vintage', 'NN'), ('books', 'NNS'), ('movies', 'NNS'), ('enjoyed', 'VBD'), ('reading', 'VBG'), ('book', 'NN'), ('plot', 'NN'), ('unusual', 'JJ'), ('think', 'NN'), ('killing', 'VBG'), ('someone', 'NN'), ('self', 'NN'), ('defense', 'NN'), ('leaving', 'VBG'), ('scene', 'NN'), ('body', 'NN'), ('without', 'IN'), ('notifying', 'VBG'), ('police', 'NN'), ('hitting', 'VBG'), ('someone', 'NN'), ('jaw', 'NN'), ('knock', 'NN'), ('would', 'MD'), ('wash', 'VB'), ('today', 'NN'), ('still', 'RB'), ('good', 'JJ'), ('read', 'NN')]\n",
      "[('book', 'NN'), ('reissue', 'NN'), ('old', 'JJ'), ('one', 'CD'), ('author', 'NN'), ('born', 'NN'), ('1910', 'CD'), ('era', 'NN'), ('say', 'VBP'), ('nero', 'NN'), ('wolfe', 'NN'), ('introduction', 'NN'), ('quite', 'RB'), ('interesting', 'JJ'), ('explaining', 'VBG'), ('author', 'NN'), ('forgotten', 'VBN'), ('never', 'RB'), ('heard', 'VBN'), ('language', 'NN'), ('little', 'RB'), ('dated', 'JJ'), ('times', 'NNS'), ('like', 'IN'), ('calling', 'VBG'), ('gun', 'NN'), ('34', 'CD'), ('heater', 'NN'), ('34', 'CD'), ('also', 'RB'), ('made', 'VBD'), ('good', 'JJ'), ('use', 'NN'), ('fire', 'NN'), ('dictionary', 'JJ'), ('look', 'NN'), ('words', 'NNS'), ('like', 'IN'), ('34', 'CD'), ('deshabille', 'NNS'), ('34', 'CD'), ('34', 'CD'), ('canarsie', 'NN'), ('34', 'CD'), ('still', 'RB'), ('well', 'RB'), ('worth', 'JJ'), ('look', 'VB'), ('seethis', 'JJ'), ('book', 'NN'), ('reissue', 'NN'), ('old', 'JJ'), ('one', 'CD'), ('author', 'NN'), ('born', 'NN'), ('1910', 'CD'), ('era', 'NN'), ('say', 'VBP'), ('nero', 'NN'), ('wolfe', 'NN'), ('introduction', 'NN'), ('quite', 'RB'), ('interesting', 'JJ'), ('explaining', 'VBG'), ('author', 'NN'), ('forgotten', 'VBN'), ('never', 'RB'), ('heard', 'VBN'), ('language', 'NN'), ('little', 'RB'), ('dated', 'JJ'), ('times', 'NNS'), ('like', 'IN'), ('calling', 'VBG'), ('gun', 'NN'), ('34', 'CD'), ('heater', 'NN'), ('34', 'CD'), ('also', 'RB'), ('made', 'VBD'), ('good', 'JJ'), ('use', 'NN'), ('fire', 'NN'), ('dictionary', 'JJ'), ('look', 'NN'), ('words', 'NNS'), ('like', 'IN'), ('34', 'CD'), ('deshabille', 'NNS'), ('34', 'CD'), ('34', 'CD'), ('canarsie', 'NN'), ('34', 'CD'), ('still', 'RB'), ('well', 'RB'), ('worth', 'JJ'), ('look', 'NNS'), ('see', 'VBP')]\n",
      "[('fairly', 'RB'), ('interesting', 'JJ'), ('read', 'JJ'), ('old', 'JJ'), ('style', 'NN'), ('terminology', 'NN'), ('glad', 'JJ'), ('get', 'NN'), ('read', 'JJ'), ('story', 'NN'), ('coarse', 'JJ'), ('crasslanguage', 'NN'), ('read', 'VBD'), ('fun', 'JJ'), ('relaxation', 'NN'), ('like', 'IN'), ('free', 'JJ'), ('ebooksbecause', 'NN'), ('check', 'NN'), ('writer', 'NN'), ('decide', 'IN'), ('intriguing', 'VBG'), ('innovative', 'JJ'), ('enough', 'RB'), ('command', 'VBP'), ('englishthat', 'RB'), ('convey', 'JJ'), ('story', 'NN'), ('without', 'IN'), ('crude', 'NN'), ('languagethis', 'VBP'), ('fairly', 'RB'), ('interesting', 'JJ'), ('read', 'JJ'), ('old', 'JJ'), ('style', 'NN'), ('terminology', 'NN'), ('glad', 'JJ'), ('get', 'NN'), ('read', 'JJ'), ('story', 'NN'), ('coarse', 'JJ'), ('crasslanguage', 'NN'), ('read', 'VBD'), ('fun', 'JJ'), ('relaxation', 'NN'), ('like', 'IN'), ('free', 'JJ'), ('ebooksbecause', 'NN'), ('check', 'NN'), ('writer', 'NN'), ('decide', 'IN'), ('intriguing', 'VBG'), ('innovative', 'JJ'), ('enough', 'RB'), ('command', 'VBP'), ('englishthat', 'RB'), ('convey', 'JJ'), ('story', 'NN'), ('without', 'IN'), ('crude', 'NN'), ('language', 'NN')]\n",
      "[('never', 'RB'), ('read', 'VBN'), ('amy', 'JJ'), ('brewster', 'NN'), ('mysteries', 'NNS'), ('one', 'CD'), ('really', 'RB'), ('hooked', 'JJ'), ('nowi', 'JJ'), ('never', 'RB'), ('read', 'VBP'), ('amy', 'JJ'), ('brewster', 'NN'), ('mysteries', 'NNS'), ('one', 'CD'), ('really', 'RB'), ('hooked', 'JJ')]\n"
     ]
    }
   ],
   "source": [
    "df_tag = df_tag.apply(lambda x:posTag(x))\n",
    "#df_tag = posTag(df_tag[0])\n",
    "#df_tag = posTag(df_tag[0])"
   ]
  },
  {
   "cell_type": "code",
   "execution_count": 63,
   "metadata": {},
   "outputs": [
    {
     "name": "stdout",
     "output_type": "stream",
     "text": [
      "enjoy \t=> NN\n",
      "vintage \t=> NN\n",
      "books \t=> NNS\n",
      "movies \t=> NNS\n",
      "enjoyed \t=> VBD\n",
      "reading \t=> VBG\n",
      "book \t=> NN\n",
      "plot \t=> NN\n",
      "unusual \t=> JJ\n",
      "think \t=> NN\n",
      "killing \t=> VBG\n",
      "someone \t=> NN\n",
      "self \t=> NN\n",
      "defense \t=> NN\n",
      "leaving \t=> VBG\n",
      "scene \t=> NN\n",
      "body \t=> NN\n",
      "without \t=> IN\n",
      "notifying \t=> VBG\n",
      "police \t=> NN\n",
      "hitting \t=> VBG\n",
      "someone \t=> NN\n",
      "jaw \t=> NN\n",
      "knock \t=> NN\n",
      "would \t=> MD\n",
      "wash \t=> VB\n",
      "today \t=> NN\n",
      "still \t=> RB\n",
      "good \t=> JJ\n",
      "read \t=> NN\n",
      "mei \t=> NN\n",
      "enjoy \t=> VBP\n",
      "vintage \t=> NN\n",
      "books \t=> NNS\n",
      "movies \t=> NNS\n",
      "enjoyed \t=> VBD\n",
      "reading \t=> VBG\n",
      "book \t=> NN\n",
      "plot \t=> NN\n",
      "unusual \t=> JJ\n",
      "think \t=> NN\n",
      "killing \t=> VBG\n",
      "someone \t=> NN\n",
      "self \t=> NN\n",
      "defense \t=> NN\n",
      "leaving \t=> VBG\n",
      "scene \t=> NN\n",
      "body \t=> NN\n",
      "without \t=> IN\n",
      "notifying \t=> VBG\n",
      "police \t=> NN\n",
      "hitting \t=> VBG\n",
      "someone \t=> NN\n",
      "jaw \t=> NN\n",
      "knock \t=> NN\n",
      "would \t=> MD\n",
      "wash \t=> VB\n",
      "today \t=> NN\n",
      "still \t=> RB\n",
      "good \t=> JJ\n",
      "read \t=> NN\n"
     ]
    }
   ],
   "source": [
    "for i in range(1):\n",
    "    for j in range(len(df_tag[i])):\n",
    "        print(df_tag[i][j][0],\"\\t=>\",df_tag[i][j][1])\n"
   ]
  },
  {
   "cell_type": "markdown",
   "metadata": {},
   "source": [
    "### 6. Build and Display a dependency parser tree for sentence\n",
    "\n",
    "\"When Jon Snow is stranded north of the Wall, half-frozen and under attack by wights, Benjen rides in and puts Jon on his horse.\""
   ]
  },
  {
   "cell_type": "code",
   "execution_count": 65,
   "metadata": {},
   "outputs": [],
   "source": [
    "import spacy"
   ]
  },
  {
   "cell_type": "code",
   "execution_count": 75,
   "metadata": {},
   "outputs": [
    {
     "name": "stdout",
     "output_type": "stream",
     "text": [
      "Requirement already satisfied: en_core_web_sm==2.3.1 from https://github.com/explosion/spacy-models/releases/download/en_core_web_sm-2.3.1/en_core_web_sm-2.3.1.tar.gz#egg=en_core_web_sm==2.3.1 in /opt/anaconda3/lib/python3.7/site-packages (2.3.1)\n",
      "Requirement already satisfied: spacy<2.4.0,>=2.3.0 in /opt/anaconda3/lib/python3.7/site-packages (from en_core_web_sm==2.3.1) (2.3.2)\n",
      "Requirement already satisfied: blis<0.5.0,>=0.4.0 in /opt/anaconda3/lib/python3.7/site-packages (from spacy<2.4.0,>=2.3.0->en_core_web_sm==2.3.1) (0.4.1)\n",
      "Requirement already satisfied: preshed<3.1.0,>=3.0.2 in /opt/anaconda3/lib/python3.7/site-packages (from spacy<2.4.0,>=2.3.0->en_core_web_sm==2.3.1) (3.0.2)\n",
      "Requirement already satisfied: requests<3.0.0,>=2.13.0 in /opt/anaconda3/lib/python3.7/site-packages (from spacy<2.4.0,>=2.3.0->en_core_web_sm==2.3.1) (2.22.0)\n",
      "Requirement already satisfied: plac<1.2.0,>=0.9.6 in /opt/anaconda3/lib/python3.7/site-packages (from spacy<2.4.0,>=2.3.0->en_core_web_sm==2.3.1) (1.1.3)\n",
      "Requirement already satisfied: setuptools in /opt/anaconda3/lib/python3.7/site-packages (from spacy<2.4.0,>=2.3.0->en_core_web_sm==2.3.1) (46.0.0.post20200309)\n",
      "Requirement already satisfied: tqdm<5.0.0,>=4.38.0 in /opt/anaconda3/lib/python3.7/site-packages (from spacy<2.4.0,>=2.3.0->en_core_web_sm==2.3.1) (4.42.1)\n",
      "Requirement already satisfied: murmurhash<1.1.0,>=0.28.0 in /opt/anaconda3/lib/python3.7/site-packages (from spacy<2.4.0,>=2.3.0->en_core_web_sm==2.3.1) (1.0.2)\n",
      "Requirement already satisfied: srsly<1.1.0,>=1.0.2 in /opt/anaconda3/lib/python3.7/site-packages (from spacy<2.4.0,>=2.3.0->en_core_web_sm==2.3.1) (1.0.2)\n",
      "Requirement already satisfied: wasabi<1.1.0,>=0.4.0 in /opt/anaconda3/lib/python3.7/site-packages (from spacy<2.4.0,>=2.3.0->en_core_web_sm==2.3.1) (0.8.0)\n",
      "Requirement already satisfied: cymem<2.1.0,>=2.0.2 in /opt/anaconda3/lib/python3.7/site-packages (from spacy<2.4.0,>=2.3.0->en_core_web_sm==2.3.1) (2.0.3)\n",
      "Requirement already satisfied: numpy>=1.15.0 in /opt/anaconda3/lib/python3.7/site-packages (from spacy<2.4.0,>=2.3.0->en_core_web_sm==2.3.1) (1.18.1)\n",
      "Requirement already satisfied: thinc==7.4.1 in /opt/anaconda3/lib/python3.7/site-packages (from spacy<2.4.0,>=2.3.0->en_core_web_sm==2.3.1) (7.4.1)\n",
      "Requirement already satisfied: catalogue<1.1.0,>=0.0.7 in /opt/anaconda3/lib/python3.7/site-packages (from spacy<2.4.0,>=2.3.0->en_core_web_sm==2.3.1) (1.0.0)\n",
      "Requirement already satisfied: certifi>=2017.4.17 in /opt/anaconda3/lib/python3.7/site-packages (from requests<3.0.0,>=2.13.0->spacy<2.4.0,>=2.3.0->en_core_web_sm==2.3.1) (2019.11.28)\n",
      "Requirement already satisfied: chardet<3.1.0,>=3.0.2 in /opt/anaconda3/lib/python3.7/site-packages (from requests<3.0.0,>=2.13.0->spacy<2.4.0,>=2.3.0->en_core_web_sm==2.3.1) (3.0.4)\n",
      "Requirement already satisfied: idna<2.9,>=2.5 in /opt/anaconda3/lib/python3.7/site-packages (from requests<3.0.0,>=2.13.0->spacy<2.4.0,>=2.3.0->en_core_web_sm==2.3.1) (2.8)\n",
      "Requirement already satisfied: urllib3!=1.25.0,!=1.25.1,<1.26,>=1.21.1 in /opt/anaconda3/lib/python3.7/site-packages (from requests<3.0.0,>=2.13.0->spacy<2.4.0,>=2.3.0->en_core_web_sm==2.3.1) (1.25.8)\n",
      "Requirement already satisfied: importlib-metadata>=0.20; python_version < \"3.8\" in /opt/anaconda3/lib/python3.7/site-packages (from catalogue<1.1.0,>=0.0.7->spacy<2.4.0,>=2.3.0->en_core_web_sm==2.3.1) (1.5.0)\n",
      "Requirement already satisfied: zipp>=0.5 in /opt/anaconda3/lib/python3.7/site-packages (from importlib-metadata>=0.20; python_version < \"3.8\"->catalogue<1.1.0,>=0.0.7->spacy<2.4.0,>=2.3.0->en_core_web_sm==2.3.1) (2.2.0)\n",
      "\u001b[38;5;2m✔ Download and installation successful\u001b[0m\n",
      "You can now load the model via spacy.load('en_core_web_sm')\n"
     ]
    }
   ],
   "source": [
    "!python -m spacy download en_core_web_sm"
   ]
  },
  {
   "cell_type": "code",
   "execution_count": 81,
   "metadata": {},
   "outputs": [
    {
     "name": "stdout",
     "output_type": "stream",
     "text": [
      "When => advmod => stranded\n",
      "Jon => compound => Snow\n",
      "Snow => nsubjpass => stranded\n",
      "is => auxpass => stranded\n",
      "stranded => advcl => rides\n",
      "north => advmod => stranded\n",
      "of => prep => north\n",
      "the => det => Wall\n",
      "Wall => pobj => of\n",
      ", => punct => north\n",
      "half => advmod => frozen\n",
      "- => punct => frozen\n",
      "frozen => conj => north\n",
      "and => cc => frozen\n",
      "under => conj => frozen\n",
      "attack => pobj => under\n",
      "by => prep => attack\n",
      "wights => pobj => by\n",
      ", => punct => rides\n",
      "Benjen => nsubj => rides\n",
      "rides => ROOT => rides\n",
      "in => prt => rides\n",
      "and => cc => rides\n",
      "puts => conj => rides\n",
      "Jon => dobj => puts\n",
      "on => prep => puts\n",
      "his => poss => horse\n",
      "horse => pobj => on\n",
      ". => punct => rides\n"
     ]
    }
   ],
   "source": [
    "\n",
    "import en_core_web_sm\n",
    "\n",
    "nlp = en_core_web_sm.load()\n",
    "text='When Jon Snow is stranded north of the Wall, half-frozen and under attack by wights, Benjen rides in and puts Jon on his horse.'\n",
    "\n",
    "for token in nlp(text):\n",
    " print(token.text,'=>',token.dep_,'=>',token.head.text)"
   ]
  },
  {
   "cell_type": "code",
   "execution_count": null,
   "metadata": {},
   "outputs": [],
   "source": []
  }
 ],
 "metadata": {
  "kernelspec": {
   "display_name": "Python 3",
   "language": "python",
   "name": "python3"
  },
  "language_info": {
   "codemirror_mode": {
    "name": "ipython",
    "version": 3
   },
   "file_extension": ".py",
   "mimetype": "text/x-python",
   "name": "python",
   "nbconvert_exporter": "python",
   "pygments_lexer": "ipython3",
   "version": "3.7.6"
  }
 },
 "nbformat": 4,
 "nbformat_minor": 4
}
